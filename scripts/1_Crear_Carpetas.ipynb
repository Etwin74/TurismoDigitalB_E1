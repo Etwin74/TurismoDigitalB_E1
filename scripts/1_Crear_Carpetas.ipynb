{
 "cells": [
  {
   "cell_type": "markdown",
   "id": "fe0a8775",
   "metadata": {},
   "source": [
    "# Creacion de carpetas"
   ]
  },
  {
   "cell_type": "code",
   "execution_count": 5,
   "id": "64a4e77d",
   "metadata": {},
   "outputs": [
    {
     "name": "stdout",
     "output_type": "stream",
     "text": [
      "✅ Carpeta 'data' lista en data\n",
      "✅ Carpeta 'database' lista en database\n",
      "✅ Carpeta 'scripts' lista en scripts\n",
      "✅ Carpeta 'reports' lista en reports\n",
      "✅ Carpeta 'ci' lista en ci\n",
      "✅ Carpeta 'git' lista en git\n",
      "✅ Carpeta 'img_vsc' lista en img_vsc\n"
     ]
    }
   ],
   "source": [
    "from pathlib import Path\n",
    "\n",
    "# Rutas de carpetas del proyecto\n",
    "carpetas = [\"data\", \"database\", \"scripts\", \"reports\", \"ci\", \"git\", \"img_vsc\"]\n",
    "\n",
    "for carpeta in carpetas:\n",
    "    ruta = ruta = Path(carpeta)\n",
    "    ruta.mkdir(parents=True, exist_ok=True)\n",
    "    print(f\"✅ Carpeta '{carpeta}' lista en {ruta}\")\n"
   ]
  }
 ],
 "metadata": {
  "kernelspec": {
   "display_name": "myenv",
   "language": "python",
   "name": "python3"
  },
  "language_info": {
   "codemirror_mode": {
    "name": "ipython",
    "version": 3
   },
   "file_extension": ".py",
   "mimetype": "text/x-python",
   "name": "python",
   "nbconvert_exporter": "python",
   "pygments_lexer": "ipython3",
   "version": "3.13.7"
  }
 },
 "nbformat": 4,
 "nbformat_minor": 5
}
