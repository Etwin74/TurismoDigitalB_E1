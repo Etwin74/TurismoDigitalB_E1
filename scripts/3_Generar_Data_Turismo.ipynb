{
 "cells": [
  {
   "cell_type": "markdown",
   "id": "97bfe901",
   "metadata": {},
   "source": [
    "# Generando datos para turismo"
   ]
  },
  {
   "cell_type": "code",
   "execution_count": 4,
   "id": "78ed545e",
   "metadata": {},
   "outputs": [
    {
     "name": "stdout",
     "output_type": "stream",
     "text": [
      "✅ visitantes.csv generado en: D:\\TurismoDigitalB_E1\\data\\visitantes.csv (filas: 3031)\n"
     ]
    }
   ],
   "source": [
    "# 3_generar_data_turismo.py\n",
    "from pathlib import Path\n",
    "import csv, random\n",
    "from datetime import datetime, timedelta\n",
    "\n",
    "def rand_date(y1=2024, y2=2025):\n",
    "    ini = datetime(y1,1,1); fin = datetime(y2,12,31)\n",
    "    return (ini + timedelta(days=random.randint(0, (fin-ini).days))).date().isoformat()\n",
    "\n",
    "# Rutas a nivel del proyecto\n",
    "data_path = (Path.cwd() / \"../data\").resolve()\n",
    "data_path.mkdir(parents=True, exist_ok=True)\n",
    "out_csv = data_path / \"visitantes.csv\"\n",
    "\n",
    "# Catálogos\n",
    "PAISES = [\"Perú\",\"Chile\",\"USA\",\"Argentina\",\"Colombia\",\"Brasil\",\"Ecuador\",\"España\",\"Francia\",\"Alemania\",\"México\",\"Bolivia\"]\n",
    "REGIONES_DESTINOS = {\n",
    "    \"Cusco\": [\"Machu Picchu\",\"Cusco Ciudad\"],\n",
    "    \"Puno\": [\"Lago Titicaca\"],\n",
    "    \"Lima\": [\"Centro Histórico\",\"Miraflores\"],\n",
    "    \"Arequipa\": [\"Valle del Colca\"],\n",
    "    \"La Libertad\": [\"Chan Chan\"],\n",
    "    \"Ica\": [\"Huacachina\"],\n",
    "    \"Loreto\": [\"Iquitos\"]\n",
    "}\n",
    "GENEROS = [\"M\",\"F\",\"O\",\"\"]\n",
    "TRANSP = [\"Avión\",\"Bus\",\"Auto\",\"Tren\",\"Barco\",\"NA\",\"\"]\n",
    "\n",
    "# Encabezado exacto\n",
    "HEADER = [\"id_visitante\",\"pais_origen\",\"edad\",\"genero\",\"destino\",\"region\",\"fecha_visita\",\"dias_estadia\",\"gasto_total\",\"medio_transporte\"]\n",
    "\n",
    "# Generación\n",
    "N = 3000\n",
    "rows = []\n",
    "for i in range(1, N+1):\n",
    "    vid = f\"V{str(i).zfill(4)}\"\n",
    "    pais = random.choices(PAISES, weights=[30,6,5,7,10,5,4,2,2,2,15,2])[0]\n",
    "    edad = random.choice([random.randint(15,75), None, None])  # nulos\n",
    "    genero = random.choice(GENEROS + [None])\n",
    "    region = random.choice(list(REGIONES_DESTINOS.keys()))\n",
    "    destino = random.choice(REGIONES_DESTINOS[region])\n",
    "    fecha  = random.choice([rand_date(2024,2025), \"NA\", None])\n",
    "    dias   = random.choice([random.randint(1,14), None])\n",
    "    gasto  = random.choice([round(random.uniform(50,5000),2), None])\n",
    "    medio  = random.choice(TRANSP)\n",
    "\n",
    "    row = [vid,pais,edad,genero,destino,region,fecha,dias,gasto,medio]\n",
    "    rows.append(row)\n",
    "    if random.random() < 0.01:  # ~1% duplicados\n",
    "        rows.append(row)\n",
    "\n",
    "with out_csv.open(\"w\", newline=\"\", encoding=\"utf-8\") as f:\n",
    "    w = csv.writer(f)\n",
    "    w.writerow(HEADER)\n",
    "    w.writerows(rows)\n",
    "\n",
    "print(f\"✅ visitantes.csv generado en: {out_csv} (filas: {len(rows)})\")\n"
   ]
  }
 ],
 "metadata": {
  "kernelspec": {
   "display_name": "myenv",
   "language": "python",
   "name": "python3"
  },
  "language_info": {
   "codemirror_mode": {
    "name": "ipython",
    "version": 3
   },
   "file_extension": ".py",
   "mimetype": "text/x-python",
   "name": "python",
   "nbconvert_exporter": "python",
   "pygments_lexer": "ipython3",
   "version": "3.13.7"
  }
 },
 "nbformat": 4,
 "nbformat_minor": 5
}
