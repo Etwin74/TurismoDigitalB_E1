{
 "cells": [
  {
   "cell_type": "markdown",
   "id": "40d8f3c2",
   "metadata": {},
   "source": [
    "# Creando archivo base"
   ]
  },
  {
   "cell_type": "code",
   "execution_count": 6,
   "id": "c82d07ec",
   "metadata": {},
   "outputs": [
    {
     "name": "stdout",
     "output_type": "stream",
     "text": [
      "✅ Archivo creado: D:\\TurismoDigitalB_E1\\data\\base.csv\n"
     ]
    }
   ],
   "source": [
    "# 2_crear_base_csv.py\n",
    "from pathlib import Path\n",
    "\n",
    "# Carpeta data al nivel del proyecto (hermana de scripts/)\n",
    "data_path = (Path.cwd() / \"../data\").resolve()\n",
    "data_path.mkdir(parents=True, exist_ok=True)\n",
    "\n",
    "# Crear archivo CSV base con los encabezados correctos\n",
    "archivo_csv = data_path / \"base.csv\"\n",
    "if not archivo_csv.exists():\n",
    "    with open(archivo_csv, \"w\", encoding=\"utf-8\") as f:\n",
    "        f.write(\"id_visitante,pais_origen,edad,genero,destino,region,fecha_visita,dias_estadia,gasto_total,medio_transporte\\n\")\n",
    "    print(f\"✅ Archivo creado: {archivo_csv}\")\n",
    "else:\n",
    "    print(f\"ℹ️ Ya existe: {archivo_csv}\")\n"
   ]
  }
 ],
 "metadata": {
  "kernelspec": {
   "display_name": "myenv",
   "language": "python",
   "name": "python3"
  },
  "language_info": {
   "codemirror_mode": {
    "name": "ipython",
    "version": 3
   },
   "file_extension": ".py",
   "mimetype": "text/x-python",
   "name": "python",
   "nbconvert_exporter": "python",
   "pygments_lexer": "ipython3",
   "version": "3.13.7"
  }
 },
 "nbformat": 4,
 "nbformat_minor": 5
}
