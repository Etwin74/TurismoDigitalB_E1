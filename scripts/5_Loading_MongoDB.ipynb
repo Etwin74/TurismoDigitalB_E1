{
 "cells": [
  {
   "cell_type": "markdown",
   "id": "404af27a",
   "metadata": {},
   "source": [
    "# Cargando datos a mongoDB"
   ]
  },
  {
   "cell_type": "code",
   "execution_count": 1,
   "id": "2fb6ef6e",
   "metadata": {},
   "outputs": [
    {
     "name": "stdout",
     "output_type": "stream",
     "text": [
      "🗄️ Conectando a MongoDB: mongodb://localhost:27017\n",
      "   • Batch 1\n",
      "   • Batch 2\n",
      "   • Batch 3\n",
      "✅ Insertados: 3000 en TurismoPeru_2025.Visitantes\n"
     ]
    }
   ],
   "source": [
    "# 5_loading_mongodb.py\n",
    "from pathlib import Path\n",
    "import pandas as pd\n",
    "from pymongo import MongoClient\n",
    "\n",
    "clean_csv = (Path.cwd() / \"../database/visitantes_clean.csv\").resolve()\n",
    "if not clean_csv.exists():\n",
    "    raise FileNotFoundError(f\"No existe {clean_csv}. Ejecuta 4_proceso_etl.py primero.\")\n",
    "\n",
    "df = pd.read_csv(clean_csv)\n",
    "records = df.to_dict(orient=\"records\")\n",
    "\n",
    "uri = \"mongodb://localhost:27017\"\n",
    "db_name, coll_name = \"TurismoPeru_2025\", \"Visitantes\"\n",
    "\n",
    "print(f\"🗄️ Conectando a MongoDB: {uri}\")\n",
    "cli = MongoClient(uri)\n",
    "col = cli[db_name][coll_name]\n",
    "\n",
    "# Limpia la colección (comenta si quieres acumular)\n",
    "col.drop()\n",
    "\n",
    "# Inserción por lotes\n",
    "B = 1000\n",
    "for i in range(0, len(records), B):\n",
    "    col.insert_many(records[i:i+B])\n",
    "    print(f\"   • Batch {i//B + 1}\")\n",
    "\n",
    "print(f\"✅ Insertados: {col.count_documents({})} en {db_name}.{coll_name}\")\n",
    "cli.close()\n"
   ]
  }
 ],
 "metadata": {
  "kernelspec": {
   "display_name": "myenv",
   "language": "python",
   "name": "python3"
  },
  "language_info": {
   "codemirror_mode": {
    "name": "ipython",
    "version": 3
   },
   "file_extension": ".py",
   "mimetype": "text/x-python",
   "name": "python",
   "nbconvert_exporter": "python",
   "pygments_lexer": "ipython3",
   "version": "3.13.7"
  }
 },
 "nbformat": 4,
 "nbformat_minor": 5
}
