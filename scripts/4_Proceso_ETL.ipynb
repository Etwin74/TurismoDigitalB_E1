{
 "cells": [
  {
   "cell_type": "markdown",
   "id": "c7737e93",
   "metadata": {},
   "source": [
    "# Procesando datos de turismo"
   ]
  },
  {
   "cell_type": "code",
   "execution_count": 6,
   "id": "94198c2b",
   "metadata": {},
   "outputs": [
    {
     "name": "stdout",
     "output_type": "stream",
     "text": [
      "✅ visitantes_clean.csv generado en: D:\\TurismoDigitalB_E1\\database\\visitantes_clean.csv (filas: 3000)\n"
     ]
    }
   ],
   "source": [
    "from pathlib import Path\n",
    "import csv\n",
    "\n",
    "# Rutas\n",
    "data_path = (Path.cwd() / \"../data\").resolve()\n",
    "database_path = (Path.cwd() / \"../database\").resolve()\n",
    "database_path.mkdir(parents=True, exist_ok=True)\n",
    "\n",
    "in_csv = data_path / \"visitantes.csv\"\n",
    "out_csv = database_path / \"visitantes_clean.csv\"\n",
    "\n",
    "# Leer y procesar\n",
    "rows = []\n",
    "seen = set()\n",
    "\n",
    "with in_csv.open(\"r\", encoding=\"utf-8\") as f:\n",
    "    reader = csv.reader(f)\n",
    "    header = next(reader)\n",
    "    for row in reader:\n",
    "        if not any(row):  # fila vacía\n",
    "            continue\n",
    "        row_tuple = tuple(row)\n",
    "        if row_tuple not in seen:\n",
    "            seen.add(row_tuple)\n",
    "            rows.append(row)\n",
    "\n",
    "# Guardar limpio\n",
    "with out_csv.open(\"w\", newline=\"\", encoding=\"utf-8\") as f:\n",
    "    writer = csv.writer(f)\n",
    "    writer.writerow(header)\n",
    "    writer.writerows(rows)\n",
    "\n",
    "print(f\"✅ visitantes_clean.csv generado en: {out_csv} (filas: {len(rows)})\")\n"
   ]
  }
 ],
 "metadata": {
  "kernelspec": {
   "display_name": "myenv",
   "language": "python",
   "name": "python3"
  },
  "language_info": {
   "codemirror_mode": {
    "name": "ipython",
    "version": 3
   },
   "file_extension": ".py",
   "mimetype": "text/x-python",
   "name": "python",
   "nbconvert_exporter": "python",
   "pygments_lexer": "ipython3",
   "version": "3.13.7"
  }
 },
 "nbformat": 4,
 "nbformat_minor": 5
}
