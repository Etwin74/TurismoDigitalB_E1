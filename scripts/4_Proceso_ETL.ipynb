{
 "cells": [
  {
   "cell_type": "markdown",
   "id": "c7737e93",
   "metadata": {},
   "source": [
    "# Procesando datos de turismo"
   ]
  },
  {
   "cell_type": "code",
   "execution_count": 7,
   "id": "94198c2b",
   "metadata": {},
   "outputs": [
    {
     "name": "stdout",
     "output_type": "stream",
     "text": [
      "✅ ETL: 3031 → 3000 filas. Guardado en: D:\\TurismoDigitalB_E1\\database\\visitantes_clean.csv\n"
     ]
    },
    {
     "name": "stderr",
     "output_type": "stream",
     "text": [
      "C:\\Users\\YATO\\AppData\\Local\\Temp\\ipykernel_3912\\1642865973.py:20: FutureWarning: DataFrame.applymap has been deprecated. Use DataFrame.map instead.\n",
      "  df = df.applymap(lambda v: v.strip() if isinstance(v, str) else v)\n"
     ]
    }
   ],
   "source": [
    "# 4_proceso_etl.py\n",
    "from pathlib import Path\n",
    "import pandas as pd\n",
    "import numpy as np\n",
    "from dateutil import parser\n",
    "\n",
    "# Rutas\n",
    "data_csv = (Path.cwd() / \"../data/visitantes.csv\").resolve()\n",
    "db_dir   = (Path.cwd() / \"../database\").resolve()\n",
    "db_dir.mkdir(parents=True, exist_ok=True)\n",
    "out_csv  = db_dir / \"visitantes_clean.csv\"\n",
    "\n",
    "if not data_csv.exists():\n",
    "    raise FileNotFoundError(f\"No existe {data_csv}. Ejecuta 3_generar_data_turismo.py primero.\")\n",
    "\n",
    "df = pd.read_csv(data_csv)\n",
    "orig = len(df)\n",
    "\n",
    "# Normalización de strings y NA/duplicados\n",
    "df = df.applymap(lambda v: v.strip() if isinstance(v, str) else v)\n",
    "df.replace({\"\": np.nan, \"NA\": np.nan, \"N/A\": np.nan}, inplace=True)\n",
    "df.drop_duplicates(inplace=True)\n",
    "\n",
    "# Completar faltantes razonables\n",
    "df[\"medio_transporte\"] = df.get(\"medio_transporte\", np.nan).fillna(\"Desconocido\")\n",
    "df[\"destino\"] = df.get(\"destino\", np.nan).fillna(\"SinDestino\")\n",
    "df[\"region\"]  = df.get(\"region\",  np.nan).fillna(\"SinRegion\")\n",
    "\n",
    "# Edad → num; mediana por país; default=30\n",
    "df[\"edad\"] = pd.to_numeric(df.get(\"edad\"), errors=\"coerce\")\n",
    "med_x_pais = df.groupby(\"pais_origen\")[\"edad\"].median()\n",
    "def fill_edad(r):\n",
    "    if pd.isna(r[\"edad\"]):\n",
    "        m = med_x_pais.get(r[\"pais_origen\"], np.nan)\n",
    "        return int(m) if not pd.isna(m) else 30\n",
    "    return int(r[\"edad\"])\n",
    "df[\"edad\"] = df.apply(fill_edad, axis=1)\n",
    "\n",
    "# Fecha visita\n",
    "def safe_date(x):\n",
    "    if pd.isna(x): return pd.NaT\n",
    "    if isinstance(x,str):\n",
    "        s = x.strip()\n",
    "        if s == \"\" or s.upper() in {\"NA\",\"N/A\"}: return pd.NaT\n",
    "        try: return parser.parse(s).date()\n",
    "        except: return pd.NaT\n",
    "    return pd.NaT\n",
    "\n",
    "df[\"fecha_visita\"] = df.get(\"fecha_visita\").apply(safe_date)\n",
    "df[\"fecha_visita\"] = df[\"fecha_visita\"].fillna(pd.to_datetime(\"2025-01-01\").date())\n",
    "\n",
    "# Días y gasto\n",
    "df[\"dias_estadia\"] = pd.to_numeric(df.get(\"dias_estadia\"), errors=\"coerce\").fillna(3).astype(int)\n",
    "df[\"gasto_total\"]  = pd.to_numeric(df.get(\"gasto_total\"),  errors=\"coerce\")\n",
    "df[\"gasto_total\"]  = df[\"gasto_total\"].fillna(df.groupby(\"region\")[\"gasto_total\"].transform(\"mean\"))\n",
    "df[\"gasto_total\"]  = df[\"gasto_total\"].fillna(df[\"gasto_total\"].median()).round(2)\n",
    "\n",
    "# Extra: tipo_visitante\n",
    "df[\"tipo_visitante\"] = df[\"pais_origen\"].apply(lambda x: \"Nacional\" if str(x).strip().lower() in {\"perú\",\"peru\"} else \"Extranjero\")\n",
    "\n",
    "df.to_csv(out_csv, index=False, encoding=\"utf-8\")\n",
    "print(f\"✅ ETL: {orig} → {len(df)} filas. Guardado en: {out_csv}\")\n"
   ]
  }
 ],
 "metadata": {
  "kernelspec": {
   "display_name": "myenv",
   "language": "python",
   "name": "python3"
  },
  "language_info": {
   "codemirror_mode": {
    "name": "ipython",
    "version": 3
   },
   "file_extension": ".py",
   "mimetype": "text/x-python",
   "name": "python",
   "nbconvert_exporter": "python",
   "pygments_lexer": "ipython3",
   "version": "3.13.7"
  }
 },
 "nbformat": 4,
 "nbformat_minor": 5
}
